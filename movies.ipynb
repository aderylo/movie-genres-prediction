{
  "nbformat": 4,
  "nbformat_minor": 0,
  "metadata": {
    "colab": {
      "name": "movies.ipynb",
      "provenance": [],
      "collapsed_sections": [],
      "authorship_tag": "ABX9TyPra+FSCtkvEpzZn76J5PTC",
      "include_colab_link": true
    },
    "kernelspec": {
      "name": "python3",
      "display_name": "Python 3"
    },
    "language_info": {
      "name": "python"
    },
    "gpuClass": "standard",
    "accelerator": "GPU"
  },
  "cells": [
    {
      "cell_type": "markdown",
      "metadata": {
        "id": "view-in-github",
        "colab_type": "text"
      },
      "source": [
        "<a href=\"https://colab.research.google.com/github/aderylo/movie-genres-prediction/blob/master/movies.ipynb\" target=\"_parent\"><img src=\"https://colab.research.google.com/assets/colab-badge.svg\" alt=\"Open In Colab\"/></a>"
      ]
    },
    {
      "cell_type": "code",
      "source": [
        "!pip install contractions\n",
        "!pip install autocorrect"
      ],
      "metadata": {
        "colab": {
          "base_uri": "https://localhost:8080/"
        },
        "id": "xrdkGq1xVSr1",
        "outputId": "02a09034-2260-4521-f9af-f54f7df37422"
      },
      "execution_count": 2,
      "outputs": [
        {
          "output_type": "stream",
          "name": "stdout",
          "text": [
            "Looking in indexes: https://pypi.org/simple, https://us-python.pkg.dev/colab-wheels/public/simple/\n",
            "Requirement already satisfied: contractions in /usr/local/lib/python3.7/dist-packages (0.1.72)\n",
            "Requirement already satisfied: textsearch>=0.0.21 in /usr/local/lib/python3.7/dist-packages (from contractions) (0.0.21)\n",
            "Requirement already satisfied: pyahocorasick in /usr/local/lib/python3.7/dist-packages (from textsearch>=0.0.21->contractions) (1.4.4)\n",
            "Requirement already satisfied: anyascii in /usr/local/lib/python3.7/dist-packages (from textsearch>=0.0.21->contractions) (0.3.1)\n",
            "Looking in indexes: https://pypi.org/simple, https://us-python.pkg.dev/colab-wheels/public/simple/\n",
            "Requirement already satisfied: autocorrect in /usr/local/lib/python3.7/dist-packages (2.6.1)\n"
          ]
        }
      ]
    },
    {
      "cell_type": "code",
      "execution_count": 3,
      "metadata": {
        "id": "zDRzsxsUHKGw",
        "colab": {
          "base_uri": "https://localhost:8080/"
        },
        "outputId": "628eaf73-00ff-47fe-8b33-5d55d9f0c008"
      },
      "outputs": [
        {
          "output_type": "stream",
          "name": "stderr",
          "text": [
            "[nltk_data] Downloading package punkt to /root/nltk_data...\n",
            "[nltk_data]   Unzipping tokenizers/punkt.zip.\n",
            "[nltk_data] Downloading package stopwords to /root/nltk_data...\n",
            "[nltk_data]   Unzipping corpora/stopwords.zip.\n"
          ]
        },
        {
          "output_type": "execute_result",
          "data": {
            "text/plain": [
              "True"
            ]
          },
          "metadata": {},
          "execution_count": 3
        }
      ],
      "source": [
        "import numpy as np \n",
        "import re\n",
        "import pandas as pd \n",
        "import nltk \n",
        "import contractions\n",
        "from bs4 import BeautifulSoup\n",
        "from autocorrect import Speller\n",
        "\n",
        "import tensorflow as tf\n",
        "from tensorflow.keras.preprocessing.text import Tokenizer\n",
        "from keras.preprocessing.sequence import pad_sequences\n",
        "from tensorflow import keras\n",
        "from tensorflow.keras import layers\n",
        "from tensorflow.keras.callbacks import EarlyStopping\n",
        "from sklearn.feature_extraction.text import CountVectorizer\n",
        "\n",
        "nltk.download('punkt')\n",
        "nltk.download('stopwords')"
      ]
    },
    {
      "cell_type": "code",
      "source": [
        "ss = nltk.SnowballStemmer(language = 'english')\n",
        "w = [ss.stem(word) for word in [\"exciting\"]]\n",
        "print(w)"
      ],
      "metadata": {
        "colab": {
          "base_uri": "https://localhost:8080/"
        },
        "id": "M5zPGQPiSYBh",
        "outputId": "a8a5d869-85bf-4176-a075-86f84949f394"
      },
      "execution_count": 4,
      "outputs": [
        {
          "output_type": "stream",
          "name": "stdout",
          "text": [
            "['excit']\n"
          ]
        }
      ]
    },
    {
      "cell_type": "markdown",
      "source": [
        "## Geting dataset \n",
        "Unfortuently, reading directly a file from a git url wasn't working properly, so the esiest solution was to clone whole repo. "
      ],
      "metadata": {
        "id": "KancbZrqMPBQ"
      }
    },
    {
      "cell_type": "code",
      "source": [
        "!git clone https://github.com/aderylo/movie-genres-prediction.git"
      ],
      "metadata": {
        "colab": {
          "base_uri": "https://localhost:8080/"
        },
        "id": "PXp_PCI8J10a",
        "outputId": "cb62eae8-cfe5-487f-b180-9ecbe7dd6e1b"
      },
      "execution_count": 5,
      "outputs": [
        {
          "output_type": "stream",
          "name": "stdout",
          "text": [
            "Cloning into 'movie-genres-prediction'...\n",
            "remote: Enumerating objects: 21, done.\u001b[K\n",
            "remote: Counting objects: 100% (21/21), done.\u001b[K\n",
            "remote: Compressing objects: 100% (18/18), done.\u001b[K\n",
            "remote: Total 21 (delta 3), reused 8 (delta 1), pack-reused 0\u001b[K\n",
            "Unpacking objects: 100% (21/21), done.\n"
          ]
        }
      ]
    },
    {
      "cell_type": "code",
      "source": [
        "df = pd.read_csv('movie-genres-prediction/mpst_full_data.csv', delimiter=',')\n",
        "nRow, nCol = df.shape\n",
        "df.head(5)"
      ],
      "metadata": {
        "colab": {
          "base_uri": "https://localhost:8080/",
          "height": 206
        },
        "id": "bbSfnrnaIMwl",
        "outputId": "dcdb3f5b-1838-4aaf-cc29-bd200b83da4a"
      },
      "execution_count": 6,
      "outputs": [
        {
          "output_type": "execute_result",
          "data": {
            "text/plain": [
              "     imdb_id                                          title  \\\n",
              "0  tt0057603                        I tre volti della paura   \n",
              "1  tt1733125  Dungeons & Dragons: The Book of Vile Darkness   \n",
              "2  tt0033045                     The Shop Around the Corner   \n",
              "3  tt0113862                             Mr. Holland's Opus   \n",
              "4  tt0086250                                       Scarface   \n",
              "\n",
              "                                       plot_synopsis  \\\n",
              "0  Note: this synopsis is for the orginal Italian...   \n",
              "1  Two thousand years ago, Nhagruul the Foul, a s...   \n",
              "2  Matuschek's, a gift store in Budapest, is the ...   \n",
              "3  Glenn Holland, not a morning person by anyone'...   \n",
              "4  In May 1980, a Cuban man named Tony Montana (A...   \n",
              "\n",
              "                                                tags  split synopsis_source  \n",
              "0          cult, horror, gothic, murder, atmospheric  train            imdb  \n",
              "1                                           violence  train            imdb  \n",
              "2                                           romantic   test            imdb  \n",
              "3             inspiring, romantic, stupid, feel-good  train            imdb  \n",
              "4  cruelty, murder, dramatic, cult, violence, atm...    val            imdb  "
            ],
            "text/html": [
              "\n",
              "  <div id=\"df-ca01e056-b0dd-4047-8764-dcc7184ac5ac\">\n",
              "    <div class=\"colab-df-container\">\n",
              "      <div>\n",
              "<style scoped>\n",
              "    .dataframe tbody tr th:only-of-type {\n",
              "        vertical-align: middle;\n",
              "    }\n",
              "\n",
              "    .dataframe tbody tr th {\n",
              "        vertical-align: top;\n",
              "    }\n",
              "\n",
              "    .dataframe thead th {\n",
              "        text-align: right;\n",
              "    }\n",
              "</style>\n",
              "<table border=\"1\" class=\"dataframe\">\n",
              "  <thead>\n",
              "    <tr style=\"text-align: right;\">\n",
              "      <th></th>\n",
              "      <th>imdb_id</th>\n",
              "      <th>title</th>\n",
              "      <th>plot_synopsis</th>\n",
              "      <th>tags</th>\n",
              "      <th>split</th>\n",
              "      <th>synopsis_source</th>\n",
              "    </tr>\n",
              "  </thead>\n",
              "  <tbody>\n",
              "    <tr>\n",
              "      <th>0</th>\n",
              "      <td>tt0057603</td>\n",
              "      <td>I tre volti della paura</td>\n",
              "      <td>Note: this synopsis is for the orginal Italian...</td>\n",
              "      <td>cult, horror, gothic, murder, atmospheric</td>\n",
              "      <td>train</td>\n",
              "      <td>imdb</td>\n",
              "    </tr>\n",
              "    <tr>\n",
              "      <th>1</th>\n",
              "      <td>tt1733125</td>\n",
              "      <td>Dungeons &amp; Dragons: The Book of Vile Darkness</td>\n",
              "      <td>Two thousand years ago, Nhagruul the Foul, a s...</td>\n",
              "      <td>violence</td>\n",
              "      <td>train</td>\n",
              "      <td>imdb</td>\n",
              "    </tr>\n",
              "    <tr>\n",
              "      <th>2</th>\n",
              "      <td>tt0033045</td>\n",
              "      <td>The Shop Around the Corner</td>\n",
              "      <td>Matuschek's, a gift store in Budapest, is the ...</td>\n",
              "      <td>romantic</td>\n",
              "      <td>test</td>\n",
              "      <td>imdb</td>\n",
              "    </tr>\n",
              "    <tr>\n",
              "      <th>3</th>\n",
              "      <td>tt0113862</td>\n",
              "      <td>Mr. Holland's Opus</td>\n",
              "      <td>Glenn Holland, not a morning person by anyone'...</td>\n",
              "      <td>inspiring, romantic, stupid, feel-good</td>\n",
              "      <td>train</td>\n",
              "      <td>imdb</td>\n",
              "    </tr>\n",
              "    <tr>\n",
              "      <th>4</th>\n",
              "      <td>tt0086250</td>\n",
              "      <td>Scarface</td>\n",
              "      <td>In May 1980, a Cuban man named Tony Montana (A...</td>\n",
              "      <td>cruelty, murder, dramatic, cult, violence, atm...</td>\n",
              "      <td>val</td>\n",
              "      <td>imdb</td>\n",
              "    </tr>\n",
              "  </tbody>\n",
              "</table>\n",
              "</div>\n",
              "      <button class=\"colab-df-convert\" onclick=\"convertToInteractive('df-ca01e056-b0dd-4047-8764-dcc7184ac5ac')\"\n",
              "              title=\"Convert this dataframe to an interactive table.\"\n",
              "              style=\"display:none;\">\n",
              "        \n",
              "  <svg xmlns=\"http://www.w3.org/2000/svg\" height=\"24px\"viewBox=\"0 0 24 24\"\n",
              "       width=\"24px\">\n",
              "    <path d=\"M0 0h24v24H0V0z\" fill=\"none\"/>\n",
              "    <path d=\"M18.56 5.44l.94 2.06.94-2.06 2.06-.94-2.06-.94-.94-2.06-.94 2.06-2.06.94zm-11 1L8.5 8.5l.94-2.06 2.06-.94-2.06-.94L8.5 2.5l-.94 2.06-2.06.94zm10 10l.94 2.06.94-2.06 2.06-.94-2.06-.94-.94-2.06-.94 2.06-2.06.94z\"/><path d=\"M17.41 7.96l-1.37-1.37c-.4-.4-.92-.59-1.43-.59-.52 0-1.04.2-1.43.59L10.3 9.45l-7.72 7.72c-.78.78-.78 2.05 0 2.83L4 21.41c.39.39.9.59 1.41.59.51 0 1.02-.2 1.41-.59l7.78-7.78 2.81-2.81c.8-.78.8-2.07 0-2.86zM5.41 20L4 18.59l7.72-7.72 1.47 1.35L5.41 20z\"/>\n",
              "  </svg>\n",
              "      </button>\n",
              "      \n",
              "  <style>\n",
              "    .colab-df-container {\n",
              "      display:flex;\n",
              "      flex-wrap:wrap;\n",
              "      gap: 12px;\n",
              "    }\n",
              "\n",
              "    .colab-df-convert {\n",
              "      background-color: #E8F0FE;\n",
              "      border: none;\n",
              "      border-radius: 50%;\n",
              "      cursor: pointer;\n",
              "      display: none;\n",
              "      fill: #1967D2;\n",
              "      height: 32px;\n",
              "      padding: 0 0 0 0;\n",
              "      width: 32px;\n",
              "    }\n",
              "\n",
              "    .colab-df-convert:hover {\n",
              "      background-color: #E2EBFA;\n",
              "      box-shadow: 0px 1px 2px rgba(60, 64, 67, 0.3), 0px 1px 3px 1px rgba(60, 64, 67, 0.15);\n",
              "      fill: #174EA6;\n",
              "    }\n",
              "\n",
              "    [theme=dark] .colab-df-convert {\n",
              "      background-color: #3B4455;\n",
              "      fill: #D2E3FC;\n",
              "    }\n",
              "\n",
              "    [theme=dark] .colab-df-convert:hover {\n",
              "      background-color: #434B5C;\n",
              "      box-shadow: 0px 1px 3px 1px rgba(0, 0, 0, 0.15);\n",
              "      filter: drop-shadow(0px 1px 2px rgba(0, 0, 0, 0.3));\n",
              "      fill: #FFFFFF;\n",
              "    }\n",
              "  </style>\n",
              "\n",
              "      <script>\n",
              "        const buttonEl =\n",
              "          document.querySelector('#df-ca01e056-b0dd-4047-8764-dcc7184ac5ac button.colab-df-convert');\n",
              "        buttonEl.style.display =\n",
              "          google.colab.kernel.accessAllowed ? 'block' : 'none';\n",
              "\n",
              "        async function convertToInteractive(key) {\n",
              "          const element = document.querySelector('#df-ca01e056-b0dd-4047-8764-dcc7184ac5ac');\n",
              "          const dataTable =\n",
              "            await google.colab.kernel.invokeFunction('convertToInteractive',\n",
              "                                                     [key], {});\n",
              "          if (!dataTable) return;\n",
              "\n",
              "          const docLinkHtml = 'Like what you see? Visit the ' +\n",
              "            '<a target=\"_blank\" href=https://colab.research.google.com/notebooks/data_table.ipynb>data table notebook</a>'\n",
              "            + ' to learn more about interactive tables.';\n",
              "          element.innerHTML = '';\n",
              "          dataTable['output_type'] = 'display_data';\n",
              "          await google.colab.output.renderOutput(dataTable, element);\n",
              "          const docLink = document.createElement('div');\n",
              "          docLink.innerHTML = docLinkHtml;\n",
              "          element.appendChild(docLink);\n",
              "        }\n",
              "      </script>\n",
              "    </div>\n",
              "  </div>\n",
              "  "
            ]
          },
          "metadata": {},
          "execution_count": 6
        }
      ]
    },
    {
      "cell_type": "markdown",
      "source": [
        "## Cleaning data"
      ],
      "metadata": {
        "id": "MM5JxCcYMjJU"
      }
    },
    {
      "cell_type": "code",
      "source": [
        "def strip_html_tags(text):\n",
        "    \"\"\" \n",
        "    This function will remove all the occurrences of html tags from the text.\n",
        "    \n",
        "    arguments:\n",
        "        input_text: \"text\" of type \"String\". \n",
        "                    \n",
        "    return:\n",
        "        value: \"text\" after removal of html tags.\n",
        "        \n",
        "    Example:\n",
        "    Input : This is a nice place to live. <IMG>\n",
        "    Output : This is a nice place to live.  \n",
        "    \"\"\"\n",
        "    # Initiating BeautifulSoup object soup.\n",
        "    soup = BeautifulSoup(text, \"html.parser\")\n",
        "    # Get all the text other than html tags.\n",
        "    stripped_text = soup.get_text(separator=\" \")\n",
        "    return stripped_text"
      ],
      "metadata": {
        "id": "0QuLWaMvW4c5"
      },
      "execution_count": 7,
      "outputs": []
    },
    {
      "cell_type": "code",
      "source": [
        "def remove_links(text):\n",
        "    \"\"\"\n",
        "    This function will remove all the occurrences of links.\n",
        "    \n",
        "    arguments:\n",
        "        input_text: \"text\" of type \"String\". \n",
        "                    \n",
        "    return:\n",
        "        value: \"text\" after removal of all types of links.\n",
        "        \n",
        "    Example:\n",
        "    Input : To know more about cats and food & website: catster.com  visit: https://catster.com//how-to-feed-cats\n",
        "    Output : To know more about cats and food & website: visit:     \n",
        "    \n",
        "    \"\"\"\n",
        "    \n",
        "    # Removing all the occurrences of links that starts with https\n",
        "    remove_https = re.sub(r'http\\S+', '', text)\n",
        "    # Remove all the occurrences of text that ends with .com\n",
        "    remove_com = re.sub(r\"\\ [A-Za-z]*\\.com\", \" \", remove_https)\n",
        "    return remove_com"
      ],
      "metadata": {
        "id": "nxm8QFN8Xtvc"
      },
      "execution_count": 8,
      "outputs": []
    },
    {
      "cell_type": "code",
      "source": [
        "def spelling_correction(text):\n",
        "    ''' \n",
        "    This function will correct spellings.\n",
        "    \n",
        "    arguments:\n",
        "         input_text: \"text\" of type \"String\".\n",
        "         \n",
        "    return:\n",
        "        value: Text after corrected spellings.\n",
        "        \n",
        "    Example: \n",
        "    Input : This is Oberois from Dlhi who came heree to studdy.\n",
        "    Output : This is Oberoi from Delhi who came here to study.\n",
        "    '''\n",
        "    # Check for spellings in English language\n",
        "    spell = Speller(lang='en')\n",
        "    Corrected_text = spell(text)\n",
        "    return Corrected_text"
      ],
      "metadata": {
        "id": "rGfBvLfnYoTR"
      },
      "execution_count": 9,
      "outputs": []
    },
    {
      "cell_type": "code",
      "source": [
        "stoplist = nltk.corpus.stopwords.words('english') \n",
        "stoplist = set(stoplist)\n",
        "def removing_stopwords(text):\n",
        "    \"\"\"This function will remove stopwords which doesn't add much meaning to a sentence \n",
        "       & they can be remove safely without comprimising meaning of the sentence.\n",
        "    \n",
        "    arguments:\n",
        "         input_text: \"text\" of type \"String\".\n",
        "         \n",
        "    return:\n",
        "        value: Text after omitted all stopwords.\n",
        "        \n",
        "    Example: \n",
        "    Input : This is Kajal from delhi who came here to study.\n",
        "    Output : [\"'This\", 'Kajal', 'delhi', 'came', 'study', '.', \"'\"] \n",
        "    \n",
        "   \"\"\"\n",
        "    # repr() function actually gives the precise information about the string\n",
        "    text = repr(text)\n",
        "    # Text without stopwords\n",
        "    No_StopWords = [word for word in nltk.tokenize.word_tokenize(text) if word.lower() not in stoplist ]\n",
        "    # Convert list of tokens_without_stopwords to String type.\n",
        "    words_string = ' '.join(No_StopWords)    \n",
        "    return words_string"
      ],
      "metadata": {
        "id": "FfX_svf0b1Ga"
      },
      "execution_count": 10,
      "outputs": []
    },
    {
      "cell_type": "code",
      "source": [
        "def tokenizing(text): \n",
        "  tokenizer = nltk.tokenize.RegexpTokenizer(r'\\w+')\n",
        "  return ' '.join(tokenizer.tokenize(text.lower()))"
      ],
      "metadata": {
        "id": "tya0c24yePm0"
      },
      "execution_count": 11,
      "outputs": []
    },
    {
      "cell_type": "code",
      "source": [
        "def clean_text(text): \n",
        "  text = strip_html_tags(text)\n",
        "  text = remove_links(text)\n",
        "  # text = spelling_correction(text) # for faster execution remove this one\n",
        "  text = contractions.fix(text)\n",
        "  text = tokenizing(text)\n",
        "  text = removing_stopwords(text)\n",
        "  text = re.sub(\"\\S*\\d\\S*\", \"\", text).strip()\n",
        "  return text\n",
        "\n",
        "#Takes around a minute or so\n",
        "df['preprocessed_plots'] = df['plot_synopsis'].apply(clean_text)"
      ],
      "metadata": {
        "id": "v5EpNK-qVjtW"
      },
      "execution_count": 12,
      "outputs": []
    },
    {
      "cell_type": "code",
      "source": [
        "df['preprocessed_plots']"
      ],
      "metadata": {
        "colab": {
          "base_uri": "https://localhost:8080/",
          "height": 435
        },
        "id": "KVs_6dPzN6nE",
        "outputId": "252f4d95-91af-45f6-b344-6f9d288f18c9"
      },
      "execution_count": 34,
      "outputs": [
        {
          "output_type": "execute_result",
          "data": {
            "text/plain": [
              "\"'note synopsis orginal italian release segments certain order boris karloff introduces three horror tales macabre supernatural known three faces fear telephonerosy michele mercier attractive high priced parisian call girl returns spacious basement apartment evening immediately gets beset series strange phone calls caller soon identified frank ex pimp recently escaped prison rosy terrified testimony landed man jail looking solace rosy phones lesbian lover mary lynda alfonsi two women estranged time rosy certain one help mary agrees come night seconds later frank calls promising matter calls protection revenge unknown rosy mary caller impersonating frank marry arrives rosy apartment soon best calm rosy nerves gives panic struck woman tranquillizer puts bed later night rosy sleeps mary gets bed pens note confession one making strange phone calls learned franks escape prison knowing rosy would call help explains felt way coming back life breakup busy writing fails notice intruder apartment time frank real creeps behind mary strangles death one rosys nylon stockings sound struggle awaken rosy gasps fright murderous pimp realizes killed wrong woman slowly makes way rosy bed however earlier night rosy placed butcher knife pillow mary suggestion rosy seizes knife stabs frank beginning strangle rosy drops knife breaks hysteria surrounded two corpses former lovers wurdalakin  century russia vladimir urfe young nobleman long trip course journey finds beheaded corpse knife plunged heart withdraws blade takes souvenir later night vladimir stops small rural cottage ask shelter notices several daggers hanging one walls vacant space happens fit one discovered vladimir surprised entrance giorgio glauco onorato explains knife belongs father seen five days giorgio offers room young count subsequently introduces rest family wife rika dialina young son ivan giorgio younger brother pietro massimo righi sister sdenka susy anderson subsequently transpires eagerly anticipating arrival father gorcha well reason absence gone battle outlaw dreaded wurdalak ali beg vladimir confused term sdenka explains wurdalak walking cadaver feeds blood living preferably close friends family members giorgio pietro certain corpse vladimir discovered ali beg also realize strong possibility father infected blood curse warn count leave decides stay await old mans return stroke midnight gorcha boris karloff returns cottage sour demeanor unkempt appearance bode worse two brothers torn realize duty kill gorcha feeds family love makes difficult reach decision later night ivan pietro attacked gorcha drains blood flees cottage giorgio stakes beheads pietro prevent reviving wurdalak prevented ivan wife threatens commit suicide reluntantly agrees bury child without taking necessary precautions night child rises grave begs invited cottage mother runs son aid stabbing giorgio attempts stop greeted front door gorcha old man bits infects daughter law husband vladimir sdenka flee cottage go run hide ruins abandoned cathedral dawn breaks vladimir optimistic long happy life lies sdenka reluctant relinquish family ties believes meant stay family sdenka fears family confirmed evening gorcha siblings show abandoned abby vladimir sleeps sdenka lured loving arms bite death awakened screams vladimir rushes aid family already taken home forcing lover follow suite young nobleman finds lying motionless bed sdenka awakens distinct change visible face longer caring vladimir embraces bites infects drop waterin victorian london england nurse helen chester jacqueline pierreux called large house prepare corpse elderly medium burial dressed body notices elaborate diamond ring finger tempted greed nurse chester steals glass tips drops water begin splash floor also assailed fly doubt attracted odor body unsettled pleased acquisition finishes job returns home small east end flat returning home nurse chester assailed strange events buzzing fly returns continues pester lights apartment go sounds dripping water continues maddening regularity sees old womans corpse lying bed coming towards terrified woman begs forgiveness ultimately strangles imaging medium hands gripping throat next morning concierge harriet white medin discovers nurse chester body calls police investigator scene gustavo de nardo quickly concludes simple case nurse chester died fright pathologist arrives scene examine body taken away notes sign violence small bruise left finger mostly likely caused someone pried ring finger doctor makes observation concierge appears distressed apparently took ring dead nurse chester distracted sound fly swooping air boris karloff makes final appearance gorcha riding horse concludes three tales fear tells viewers careful walking home night ghosts vampires fear image pulls back actually reveal sitting prop fake horse camera crew various crewmen moving branches around simulate scene riding forest wurdalak segment '\""
            ],
            "application/vnd.google.colaboratory.intrinsic+json": {
              "type": "string"
            }
          },
          "metadata": {},
          "execution_count": 34
        }
      ]
    },
    {
      "cell_type": "code",
      "source": [
        "def remove_sapces(text): \n",
        "  return text.replace(\" \",\"\")\n",
        "\n",
        "df['tags']=df['tags'].apply(remove_sapces)\n",
        "df['tags']"
      ],
      "metadata": {
        "colab": {
          "base_uri": "https://localhost:8080/"
        },
        "id": "jY3yoTSIIz2t",
        "outputId": "90c17ee3-a1f9-47cb-9c5d-3688b749f744"
      },
      "execution_count": 14,
      "outputs": [
        {
          "output_type": "execute_result",
          "data": {
            "text/plain": [
              "0                    cult,horror,gothic,murder,atmospheric\n",
              "1                                                 violence\n",
              "2                                                 romantic\n",
              "3                      inspiring,romantic,stupid,feel-good\n",
              "4        cruelty,murder,dramatic,cult,violence,atmosphe...\n",
              "                               ...                        \n",
              "14823                                        comedy,murder\n",
              "14824                              goodversusevil,violence\n",
              "14825                                              antiwar\n",
              "14826                                               murder\n",
              "14827                                        christianfilm\n",
              "Name: tags, Length: 14828, dtype: object"
            ]
          },
          "metadata": {},
          "execution_count": 14
        }
      ]
    },
    {
      "cell_type": "markdown",
      "source": [
        "### How well did we clean the data? "
      ],
      "metadata": {
        "id": "rcfIDxu-caG-"
      }
    },
    {
      "cell_type": "code",
      "source": [
        "def max_len(x):\n",
        "    a=x.split()\n",
        "    return len(a)\n",
        "\n",
        "v=Tokenizer()\n",
        "v.fit_on_texts(df['preprocessed_plots'])\n",
        "vocab_size = len(v.word_index) + 1\n",
        "\n",
        "\n",
        "print(max(df['preprocessed_plots'].apply(max_len)))\n",
        "print(vocab_size)"
      ],
      "metadata": {
        "colab": {
          "base_uri": "https://localhost:8080/"
        },
        "id": "-TcSWXLpb323",
        "outputId": "b5cd600d-019c-475e-ccc4-1d0e92b406f0"
      },
      "execution_count": 15,
      "outputs": [
        {
          "output_type": "stream",
          "name": "stdout",
          "text": [
            "5833\n",
            "125854\n"
          ]
        }
      ]
    },
    {
      "cell_type": "markdown",
      "source": [
        "## Encoding before training"
      ],
      "metadata": {
        "id": "IyHIfE-oQPC8"
      }
    },
    {
      "cell_type": "code",
      "source": [
        "train=df.loc[df.split=='train']\n",
        "test=df.loc[df.split=='test']\n",
        "cv=df.loc[df.split==\"val\"]\n",
        "\n",
        "train=train.reset_index()\n",
        "test=test.reset_index()\n",
        "cv=cv.reset_index()\n"
      ],
      "metadata": {
        "id": "roLpUYZbI63i"
      },
      "execution_count": 16,
      "outputs": []
    },
    {
      "cell_type": "code",
      "source": [
        "vectorizer = CountVectorizer(tokenizer = lambda x: x.split(\",\"), binary='true')\n",
        "y_train = vectorizer.fit_transform(train['tags']).toarray()\n",
        "y_test = vectorizer.transform(test['tags']).toarray()\n",
        "\n",
        "print(y_train)\n",
        "print(vectorizer.inverse_transform(y_train)[0])"
      ],
      "metadata": {
        "colab": {
          "base_uri": "https://localhost:8080/"
        },
        "id": "LMvzGIrFJJ1t",
        "outputId": "d53a403a-d1a1-4e28-ac8f-0f61b8f4f838"
      },
      "execution_count": 17,
      "outputs": [
        {
          "output_type": "stream",
          "name": "stdout",
          "text": [
            "[[0 0 0 ... 0 0 0]\n",
            " [0 0 0 ... 1 0 0]\n",
            " [0 0 0 ... 0 0 0]\n",
            " ...\n",
            " [0 0 0 ... 1 0 0]\n",
            " [0 0 0 ... 1 0 0]\n",
            " [0 0 0 ... 0 0 0]]\n",
            "['atmospheric' 'cult' 'gothic' 'horror' 'murder']\n"
          ]
        }
      ]
    },
    {
      "cell_type": "code",
      "source": [
        "vect=Tokenizer()\n",
        "vect.fit_on_texts(train['plot_synopsis'])\n",
        "vocab_size = len(vect.word_index) + 1\n",
        "print(vocab_size)"
      ],
      "metadata": {
        "colab": {
          "base_uri": "https://localhost:8080/"
        },
        "id": "lfhGLg1rJo0X",
        "outputId": "fce873dc-582e-48cd-dc11-82775290f162"
      },
      "execution_count": 18,
      "outputs": [
        {
          "output_type": "stream",
          "name": "stdout",
          "text": [
            "122195\n"
          ]
        }
      ]
    },
    {
      "cell_type": "code",
      "source": [
        "encoded_docs_train = vect.texts_to_sequences(train['preprocessed_plots'])\n",
        "max_length = vocab_size\n",
        "padded_docs_train = pad_sequences(encoded_docs_train, maxlen=1200, padding='post')\n",
        "print(padded_docs_train)"
      ],
      "metadata": {
        "colab": {
          "base_uri": "https://localhost:8080/"
        },
        "id": "vzY98i6fJsMw",
        "outputId": "09ea72fd-9dd3-41fd-c904-62ebbb5aa8d3"
      },
      "execution_count": 19,
      "outputs": [
        {
          "output_type": "stream",
          "name": "stdout",
          "text": [
            "[[ 4660 62208  2514 ...     0     0     0]\n",
            " [ 4481   143   875 ...     0     0     0]\n",
            " [ 4094  2892 28344 ...   140  6946  2001]\n",
            " ...\n",
            " [62209  2717   539 ...     0     0     0]\n",
            " [25350  5118  2731 ...     0     0     0]\n",
            " [ 1269  2392  2530 ...     0     0     0]]\n"
          ]
        }
      ]
    },
    {
      "cell_type": "code",
      "source": [
        "encoded_docs_test =  vect.texts_to_sequences(test['preprocessed_plots'])\n",
        "padded_docs_test = pad_sequences(encoded_docs_test, maxlen=1200, padding='post')\n",
        "encoded_docs_cv = vect.texts_to_sequences(cv['preprocessed_plots'])\n",
        "padded_docs_cv = pad_sequences(encoded_docs_cv, maxlen=1200, padding='post')"
      ],
      "metadata": {
        "id": "4YrqkVEDJt0T"
      },
      "execution_count": 20,
      "outputs": []
    },
    {
      "cell_type": "markdown",
      "source": [
        "## Model "
      ],
      "metadata": {
        "id": "Da3bv_QOVWXZ"
      }
    },
    {
      "cell_type": "code",
      "source": [
        "model = keras.Sequential()\n",
        "# Configuring the parameters\n",
        "model.add(layers.Embedding(vocab_size, output_dim=50, input_length=1200))\n",
        "model.add(layers.LSTM(128, return_sequences=True))  \n",
        "# Adding a dropout layer\n",
        "model.add(layers.Dropout(0.5))\n",
        "model.add(layers.LSTM(64))\n",
        "model.add(layers.Dropout(0.5))\n",
        "# Adding a dense output layer with sigmoid activation\n",
        "model.add(layers.Dense(71, activation='sigmoid'))\n",
        "\n",
        "\n",
        "model.summary()"
      ],
      "metadata": {
        "colab": {
          "base_uri": "https://localhost:8080/"
        },
        "id": "EjPSCZw9JxRu",
        "outputId": "5a36043e-34d3-40c4-ce05-364582fb47fc"
      },
      "execution_count": 21,
      "outputs": [
        {
          "output_type": "stream",
          "name": "stdout",
          "text": [
            "Model: \"sequential\"\n",
            "_________________________________________________________________\n",
            " Layer (type)                Output Shape              Param #   \n",
            "=================================================================\n",
            " embedding (Embedding)       (None, 1200, 50)          6109750   \n",
            "                                                                 \n",
            " lstm (LSTM)                 (None, 1200, 128)         91648     \n",
            "                                                                 \n",
            " dropout (Dropout)           (None, 1200, 128)         0         \n",
            "                                                                 \n",
            " lstm_1 (LSTM)               (None, 64)                49408     \n",
            "                                                                 \n",
            " dropout_1 (Dropout)         (None, 64)                0         \n",
            "                                                                 \n",
            " dense (Dense)               (None, 71)                4615      \n",
            "                                                                 \n",
            "=================================================================\n",
            "Total params: 6,255,421\n",
            "Trainable params: 6,255,421\n",
            "Non-trainable params: 0\n",
            "_________________________________________________________________\n"
          ]
        }
      ]
    },
    {
      "cell_type": "code",
      "source": [
        "METRICS = [\n",
        "      keras.metrics.TruePositives(name='tp'),\n",
        "      keras.metrics.FalsePositives(name='fp'),\n",
        "      keras.metrics.TrueNegatives(name='tn'),\n",
        "      keras.metrics.FalseNegatives(name='fn'), \n",
        "      keras.metrics.BinaryAccuracy(name='accuracy'),\n",
        "      keras.metrics.Precision(name='precision'),\n",
        "      keras.metrics.Recall(name='recall'),\n",
        "      keras.metrics.AUC(name='auc'),\n",
        "]\n",
        "\n",
        "callbacks = [\n",
        "    EarlyStopping(monitor='val_loss', patience=2, verbose=0),\n",
        "]\n",
        "\n",
        "model.compile(optimizer='adam', loss='binary_crossentropy', metrics = METRICS)"
      ],
      "metadata": {
        "id": "UqVvwF0gJxaK"
      },
      "execution_count": 22,
      "outputs": []
    },
    {
      "cell_type": "code",
      "source": [
        "history = model.fit(padded_docs_train,y_train,\n",
        "                        epochs = 10,\n",
        "                        verbose = 1,\n",
        "                        validation_data=(padded_docs_test, y_test),\n",
        "                        batch_size=16,\n",
        "                        callbacks=callbacks)"
      ],
      "metadata": {
        "colab": {
          "base_uri": "https://localhost:8080/"
        },
        "id": "A-q10RhoJ64-",
        "outputId": "eb4b6879-f9fa-4f19-b5a5-62695bbccda3"
      },
      "execution_count": 23,
      "outputs": [
        {
          "output_type": "stream",
          "name": "stdout",
          "text": [
            "Epoch 1/10\n",
            "594/594 [==============================] - 75s 109ms/step - loss: 0.1742 - tp: 1485.0000 - fp: 9199.0000 - tn: 636498.0000 - fn: 26537.0000 - accuracy: 0.9470 - precision: 0.1390 - recall: 0.0530 - auc: 0.7507 - val_loss: 0.1501 - val_tp: 0.0000e+00 - val_fp: 0.0000e+00 - val_tn: 201564.0000 - val_fn: 9022.0000 - val_accuracy: 0.9572 - val_precision: 0.0000e+00 - val_recall: 0.0000e+00 - val_auc: 0.8110\n",
            "Epoch 2/10\n",
            "594/594 [==============================] - 61s 103ms/step - loss: 0.1446 - tp: 263.0000 - fp: 496.0000 - tn: 645201.0000 - fn: 27759.0000 - accuracy: 0.9581 - precision: 0.3465 - recall: 0.0094 - auc: 0.8041 - val_loss: 0.1407 - val_tp: 0.0000e+00 - val_fp: 0.0000e+00 - val_tn: 201564.0000 - val_fn: 9022.0000 - val_accuracy: 0.9572 - val_precision: 0.0000e+00 - val_recall: 0.0000e+00 - val_auc: 0.8325\n",
            "Epoch 3/10\n",
            "594/594 [==============================] - 59s 99ms/step - loss: 0.1425 - tp: 53.0000 - fp: 145.0000 - tn: 645552.0000 - fn: 27969.0000 - accuracy: 0.9583 - precision: 0.2677 - recall: 0.0019 - auc: 0.8118 - val_loss: 0.1411 - val_tp: 0.0000e+00 - val_fp: 0.0000e+00 - val_tn: 201564.0000 - val_fn: 9022.0000 - val_accuracy: 0.9572 - val_precision: 0.0000e+00 - val_recall: 0.0000e+00 - val_auc: 0.8322\n",
            "Epoch 4/10\n",
            "594/594 [==============================] - 57s 96ms/step - loss: 0.1416 - tp: 2.0000 - fp: 4.0000 - tn: 645693.0000 - fn: 28020.0000 - accuracy: 0.9584 - precision: 0.3333 - recall: 7.1372e-05 - auc: 0.8143 - val_loss: 0.1410 - val_tp: 0.0000e+00 - val_fp: 0.0000e+00 - val_tn: 201564.0000 - val_fn: 9022.0000 - val_accuracy: 0.9572 - val_precision: 0.0000e+00 - val_recall: 0.0000e+00 - val_auc: 0.8324\n",
            "Epoch 5/10\n",
            "594/594 [==============================] - 57s 96ms/step - loss: 0.1410 - tp: 10.0000 - fp: 5.0000 - tn: 645692.0000 - fn: 28012.0000 - accuracy: 0.9584 - precision: 0.6667 - recall: 3.5686e-04 - auc: 0.8164 - val_loss: 0.1407 - val_tp: 0.0000e+00 - val_fp: 0.0000e+00 - val_tn: 201564.0000 - val_fn: 9022.0000 - val_accuracy: 0.9572 - val_precision: 0.0000e+00 - val_recall: 0.0000e+00 - val_auc: 0.8327\n",
            "Epoch 6/10\n",
            "594/594 [==============================] - 85s 143ms/step - loss: 0.1402 - tp: 6.0000 - fp: 1.0000 - tn: 645696.0000 - fn: 28016.0000 - accuracy: 0.9584 - precision: 0.8571 - recall: 2.1412e-04 - auc: 0.8195 - val_loss: 0.1410 - val_tp: 0.0000e+00 - val_fp: 0.0000e+00 - val_tn: 201564.0000 - val_fn: 9022.0000 - val_accuracy: 0.9572 - val_precision: 0.0000e+00 - val_recall: 0.0000e+00 - val_auc: 0.8317\n",
            "Epoch 7/10\n",
            "594/594 [==============================] - 65s 110ms/step - loss: 0.1398 - tp: 6.0000 - fp: 2.0000 - tn: 645695.0000 - fn: 28016.0000 - accuracy: 0.9584 - precision: 0.7500 - recall: 2.1412e-04 - auc: 0.8216 - val_loss: 0.1412 - val_tp: 0.0000e+00 - val_fp: 0.0000e+00 - val_tn: 201564.0000 - val_fn: 9022.0000 - val_accuracy: 0.9572 - val_precision: 0.0000e+00 - val_recall: 0.0000e+00 - val_auc: 0.8319\n",
            "Epoch 8/10\n",
            "594/594 [==============================] - 61s 103ms/step - loss: 0.1399 - tp: 7.0000 - fp: 5.0000 - tn: 645692.0000 - fn: 28015.0000 - accuracy: 0.9584 - precision: 0.5833 - recall: 2.4980e-04 - auc: 0.8207 - val_loss: 0.1409 - val_tp: 0.0000e+00 - val_fp: 0.0000e+00 - val_tn: 201564.0000 - val_fn: 9022.0000 - val_accuracy: 0.9572 - val_precision: 0.0000e+00 - val_recall: 0.0000e+00 - val_auc: 0.8324\n",
            "Epoch 9/10\n",
            "594/594 [==============================] - 71s 119ms/step - loss: 0.1395 - tp: 44.0000 - fp: 24.0000 - tn: 645673.0000 - fn: 27978.0000 - accuracy: 0.9584 - precision: 0.6471 - recall: 0.0016 - auc: 0.8220 - val_loss: 0.1407 - val_tp: 2.0000 - val_fp: 3.0000 - val_tn: 201561.0000 - val_fn: 9020.0000 - val_accuracy: 0.9572 - val_precision: 0.4000 - val_recall: 2.2168e-04 - val_auc: 0.8325\n"
          ]
        }
      ]
    },
    {
      "cell_type": "code",
      "source": [
        "import matplotlib.pyplot as plt\n",
        "import matplotlib as mpl\n",
        "\n",
        "mpl.rcParams['figure.figsize'] = (12, 10)\n",
        "colors = plt.rcParams['axes.prop_cycle'].by_key()['color']\n",
        "\n",
        "def plot_metrics(history):\n",
        "    metrics =  ['loss', 'auc', 'precision', 'recall']\n",
        "    for n, metric in enumerate(metrics):\n",
        "        name = metric.replace(\"_\",\" \").capitalize()\n",
        "        plt.subplot(2,2,n+1)\n",
        "        plt.plot(history.epoch,  history.history[metric], color=colors[0], label='Train')\n",
        "        plt.plot(history.epoch, history.history['val_'+metric],\n",
        "                 color=colors[0], linestyle=\"--\", label='Val')\n",
        "        plt.xlabel('Epoch')\n",
        "        plt.ylabel(name)\n",
        "        if metric == 'loss':\n",
        "            plt.ylim([0, plt.ylim()[1]])\n",
        "        elif metric == 'auc':\n",
        "            plt.ylim([0.8,1])\n",
        "        else:\n",
        "            plt.ylim([0,1])\n",
        "\n",
        "        plt.legend()\n",
        "\n",
        "plot_metrics(history)"
      ],
      "metadata": {
        "id": "yHBOodQGKGXQ",
        "outputId": "d3a8bc52-0c22-48f7-90c6-35b34e00853c",
        "colab": {
          "base_uri": "https://localhost:8080/",
          "height": 609
        }
      },
      "execution_count": 24,
      "outputs": [
        {
          "output_type": "display_data",
          "data": {
            "text/plain": [
              "<Figure size 864x720 with 4 Axes>"
            ],
            "image/png": "[encoded data removed]"
          },
          "metadata": {
            "needs_background": "light"
          }
        }
      ]
    },
    {
      "cell_type": "code",
      "source": [
        "from sklearn.metrics import precision_score, recall_score, f1_score"
      ],
      "metadata": {
        "id": "s6iOtmgGKJXs"
      },
      "execution_count": 25,
      "outputs": []
    },
    {
      "cell_type": "code",
      "source": [
        "predictions=model.predict([padded_docs_test])\n",
        "thresholds=[0.1,0.2,0.3,0.4,0.5,0.6,0.7,0.8,0.9]\n",
        "\n",
        "for val in thresholds:\n",
        "    print(\"For threshold: \", val)\n",
        "    pred=predictions.copy()\n",
        "  \n",
        "    pred[pred>=val]=1\n",
        "    pred[pred<val]=0\n",
        "  \n",
        "    precision = precision_score(y_test, pred, average='micro')\n",
        "    recall = recall_score(y_test, pred, average='micro')\n",
        "    f1 = f1_score(y_test, pred, average='micro')\n",
        "   \n",
        "    print(\"Micro-average quality numbers\")\n",
        "    print(\"Precision: {:.4f}, Recall: {:.4f}, F1-measure: {:.4f}\".format(precision, recall, f1))"
      ],
      "metadata": {
        "id": "9wl3aGeeKMfw",
        "outputId": "a74d63d5-3320-417d-dc39-b2bc129d1d35",
        "colab": {
          "base_uri": "https://localhost:8080/"
        }
      },
      "execution_count": 26,
      "outputs": [
        {
          "output_type": "stream",
          "name": "stdout",
          "text": [
            "For threshold:  0.1\n",
            "Micro-average quality numbers\n",
            "Precision: 0.2109, Recall: 0.5695, F1-measure: 0.3078\n",
            "For threshold:  0.2\n",
            "Micro-average quality numbers\n",
            "Precision: 0.2731, Recall: 0.3664, F1-measure: 0.3129\n",
            "For threshold:  0.3\n",
            "Micro-average quality numbers\n",
            "Precision: 0.3464, Recall: 0.2315, F1-measure: 0.2776\n",
            "For threshold:  0.4\n",
            "Micro-average quality numbers\n",
            "Precision: 0.4599, Recall: 0.0095, F1-measure: 0.0187\n",
            "For threshold:  0.5\n",
            "Micro-average quality numbers\n",
            "Precision: 0.4000, Recall: 0.0002, F1-measure: 0.0004\n",
            "For threshold:  0.6\n"
          ]
        },
        {
          "output_type": "stream",
          "name": "stderr",
          "text": [
            "/usr/local/lib/python3.7/dist-packages/sklearn/metrics/_classification.py:1318: UndefinedMetricWarning: Precision is ill-defined and being set to 0.0 due to no predicted samples. Use `zero_division` parameter to control this behavior.\n",
            "  _warn_prf(average, modifier, msg_start, len(result))\n",
            "/usr/local/lib/python3.7/dist-packages/sklearn/metrics/_classification.py:1318: UndefinedMetricWarning: Precision is ill-defined and being set to 0.0 due to no predicted samples. Use `zero_division` parameter to control this behavior.\n",
            "  _warn_prf(average, modifier, msg_start, len(result))\n",
            "/usr/local/lib/python3.7/dist-packages/sklearn/metrics/_classification.py:1318: UndefinedMetricWarning: Precision is ill-defined and being set to 0.0 due to no predicted samples. Use `zero_division` parameter to control this behavior.\n",
            "  _warn_prf(average, modifier, msg_start, len(result))\n"
          ]
        },
        {
          "output_type": "stream",
          "name": "stdout",
          "text": [
            "Micro-average quality numbers\n",
            "Precision: 0.0000, Recall: 0.0000, F1-measure: 0.0000\n",
            "For threshold:  0.7\n",
            "Micro-average quality numbers\n",
            "Precision: 0.0000, Recall: 0.0000, F1-measure: 0.0000\n",
            "For threshold:  0.8\n",
            "Micro-average quality numbers\n",
            "Precision: 0.0000, Recall: 0.0000, F1-measure: 0.0000\n",
            "For threshold:  0.9\n",
            "Micro-average quality numbers\n",
            "Precision: 0.0000, Recall: 0.0000, F1-measure: 0.0000\n"
          ]
        },
        {
          "output_type": "stream",
          "name": "stderr",
          "text": [
            "/usr/local/lib/python3.7/dist-packages/sklearn/metrics/_classification.py:1318: UndefinedMetricWarning: Precision is ill-defined and being set to 0.0 due to no predicted samples. Use `zero_division` parameter to control this behavior.\n",
            "  _warn_prf(average, modifier, msg_start, len(result))\n"
          ]
        }
      ]
    },
    {
      "cell_type": "code",
      "source": [
        "def predict_sample():\n",
        "    t = train.sample(1)\n",
        "    encoded_docs = vect.texts_to_sequences(t['preprocessed_plots'])\n",
        "    padded_docs = pad_sequences(encoded_docs, maxlen=1200, padding='post')\n",
        "    pred = model.predict(padded_docs).tolist()\n",
        "    for i in range(len(pred[0])):\n",
        "        if(pred[0][i] < 0.1):\n",
        "            pred[0][i] = 0\n",
        "        else:\n",
        "            pred[0][i] = 1\n",
        "    \n",
        "    print(\"Original tags -->\", t['tags'].values)\n",
        "    print(\"Predicted tags -->\", vectorizer.inverse_transform(pred))\n",
        "\n",
        "predict_sample()"
      ],
      "metadata": {
        "id": "9EukLx7jKOGN",
        "outputId": "99d44d42-681c-4a6a-ca38-f8ce87f86d63",
        "colab": {
          "base_uri": "https://localhost:8080/"
        }
      },
      "execution_count": 43,
      "outputs": [
        {
          "output_type": "stream",
          "name": "stdout",
          "text": [
            "[[2001 2186 5876 ...    0    0    0]]\n",
            "Original tags --> ['romantic,flashback']\n",
            "Predicted tags --> [array(['comedy', 'cult', 'flashback', 'murder', 'psychedelic', 'revenge',\n",
            "       'romantic', 'violence'], dtype='<U17')]\n"
          ]
        }
      ]
    },
    {
      "cell_type": "code",
      "source": [
        "def predict_user_input(input : str):\n",
        "  clean_input = clean_text(input)\n",
        "  encoded_docs = vect.texts_to_sequences(clean_input)\n",
        "  padded_docs = pad_sequences(encoded_docs, maxlen=1200, padding='post')\n",
        "  pred = model.predict(padded_docs).tolist()\n",
        "  for i in range(len(pred[0])):\n",
        "      if(pred[0][i] < 0.1):\n",
        "          pred[0][i] = 0\n",
        "      else:\n",
        "          pred[0][i] = 1\n",
        "    \n",
        "  print(\"Predicted tags -->\", vectorizer.inverse_transform(pred)[0])"
      ],
      "metadata": {
        "id": "jU44DVksB8A8"
      },
      "execution_count": 84,
      "outputs": []
    },
    {
      "cell_type": "code",
      "source": [
        "x = predict_user_input(\"\"\"A meek Hobbit from the Shire and eight companions set out on\n",
        " a journey to destroy the powerful One Ring and save Middle-earth from the Dark Lord Sauron.\"\"\")"
      ],
      "metadata": {
        "id": "ca3RY3WjEf5T",
        "outputId": "f29af2d1-4474-46bf-d577-415af48bf77b",
        "colab": {
          "base_uri": "https://localhost:8080/"
        }
      },
      "execution_count": 85,
      "outputs": [
        {
          "output_type": "stream",
          "name": "stdout",
          "text": [
            "Predicted tags --> ['comedy' 'cult' 'flashback' 'murder' 'psychedelic' 'revenge' 'romantic'\n",
            " 'violence']\n"
          ]
        }
      ]
    }
  ]
}