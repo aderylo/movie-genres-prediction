{
  "nbformat": 4,
  "nbformat_minor": 0,
  "metadata": {
    "colab": {
      "name": "movies.ipynb",
      "provenance": [],
      "collapsed_sections": [],
      "authorship_tag": "ABX9TyNnhND4NJiPr0YhKz8smGeo",
      "include_colab_link": true
    },
    "kernelspec": {
      "name": "python3",
      "display_name": "Python 3"
    },
    "language_info": {
      "name": "python"
    },
    "gpuClass": "standard",
    "accelerator": "GPU"
  },
  "cells": [
    {
      "cell_type": "markdown",
      "metadata": {
        "id": "view-in-github",
        "colab_type": "text"
      },
      "source": [
        "<a href=\"https://colab.research.google.com/github/aderylo/movie-genres-prediction/blob/master/movies.ipynb\" target=\"_parent\"><img src=\"https://colab.research.google.com/assets/colab-badge.svg\" alt=\"Open In Colab\"/></a>"
      ]
    },
    {
      "cell_type": "code",
      "source": [
        "!pip install contractions\n",
        "!pip install autocorrect"
      ],
      "metadata": {
        "colab": {
          "base_uri": "https://localhost:8080/"
        },
        "id": "xrdkGq1xVSr1",
        "outputId": "c3d491ae-0d1d-484a-eef7-d57ab06bf11d"
      },
      "execution_count": 1,
      "outputs": [
        {
          "output_type": "stream",
          "name": "stdout",
          "text": [
            "Looking in indexes: https://pypi.org/simple, https://us-python.pkg.dev/colab-wheels/public/simple/\n",
            "Requirement already satisfied: contractions in /usr/local/lib/python3.7/dist-packages (0.1.72)\n",
            "Requirement already satisfied: textsearch>=0.0.21 in /usr/local/lib/python3.7/dist-packages (from contractions) (0.0.21)\n",
            "Requirement already satisfied: pyahocorasick in /usr/local/lib/python3.7/dist-packages (from textsearch>=0.0.21->contractions) (1.4.4)\n",
            "Requirement already satisfied: anyascii in /usr/local/lib/python3.7/dist-packages (from textsearch>=0.0.21->contractions) (0.3.1)\n",
            "Looking in indexes: https://pypi.org/simple, https://us-python.pkg.dev/colab-wheels/public/simple/\n",
            "Requirement already satisfied: autocorrect in /usr/local/lib/python3.7/dist-packages (2.6.1)\n"
          ]
        }
      ]
    },
    {
      "cell_type": "code",
      "execution_count": 2,
      "metadata": {
        "id": "zDRzsxsUHKGw",
        "colab": {
          "base_uri": "https://localhost:8080/"
        },
        "outputId": "a6f674c9-876d-4a09-bbf0-f74fc0ec20d0"
      },
      "outputs": [
        {
          "output_type": "stream",
          "name": "stderr",
          "text": [
            "[nltk_data] Downloading package punkt to /root/nltk_data...\n",
            "[nltk_data]   Package punkt is already up-to-date!\n",
            "[nltk_data] Downloading package stopwords to /root/nltk_data...\n",
            "[nltk_data]   Package stopwords is already up-to-date!\n"
          ]
        },
        {
          "output_type": "execute_result",
          "data": {
            "text/plain": [
              "True"
            ]
          },
          "metadata": {},
          "execution_count": 2
        }
      ],
      "source": [
        "import numpy as np \n",
        "import re\n",
        "import pandas as pd \n",
        "import nltk \n",
        "import contractions\n",
        "from bs4 import BeautifulSoup\n",
        "from autocorrect import Speller\n",
        "\n",
        "import tensorflow as tf\n",
        "from tensorflow.keras.preprocessing.text import Tokenizer\n",
        "from keras.preprocessing.sequence import pad_sequences\n",
        "from tensorflow import keras\n",
        "from tensorflow.keras import layers\n",
        "from tensorflow.keras.callbacks import EarlyStopping\n",
        "from sklearn.feature_extraction.text import CountVectorizer\n",
        "\n",
        "nltk.download('punkt')\n",
        "nltk.download('stopwords')"
      ]
    },
    {
      "cell_type": "code",
      "source": [
        "ss = nltk.SnowballStemmer(language = 'english')\n",
        "w = [ss.stem(word) for word in [\"exciting\"]]\n",
        "print(w)"
      ],
      "metadata": {
        "colab": {
          "base_uri": "https://localhost:8080/"
        },
        "id": "M5zPGQPiSYBh",
        "outputId": "903a3330-3d7e-44c2-fd3e-d3b3c36414ff"
      },
      "execution_count": 3,
      "outputs": [
        {
          "output_type": "stream",
          "name": "stdout",
          "text": [
            "['excit']\n"
          ]
        }
      ]
    },
    {
      "cell_type": "markdown",
      "source": [
        "## Geting dataset \n",
        "Unfortuently, reading directly a file from a git url wasn't working properly, so the esiest solution was to clone whole repo. "
      ],
      "metadata": {
        "id": "KancbZrqMPBQ"
      }
    },
    {
      "cell_type": "code",
      "source": [
        "!git clone https://github.com/aderylo/movie-genres-prediction.git"
      ],
      "metadata": {
        "colab": {
          "base_uri": "https://localhost:8080/"
        },
        "id": "PXp_PCI8J10a",
        "outputId": "1f756d3c-1f2b-4dcb-aaaf-44d87629411c"
      },
      "execution_count": 4,
      "outputs": [
        {
          "output_type": "stream",
          "name": "stdout",
          "text": [
            "fatal: destination path 'movie-genres-prediction' already exists and is not an empty directory.\n"
          ]
        }
      ]
    },
    {
      "cell_type": "code",
      "source": [
        "df = pd.read_csv('movie-genres-prediction/mpst_full_data.csv', delimiter=',')\n",
        "nRow, nCol = df.shape\n",
        "df.head(5)"
      ],
      "metadata": {
        "colab": {
          "base_uri": "https://localhost:8080/",
          "height": 206
        },
        "id": "bbSfnrnaIMwl",
        "outputId": "183b63e5-dc33-4c28-ac8d-26f2b0886b61"
      },
      "execution_count": 5,
      "outputs": [
        {
          "output_type": "execute_result",
          "data": {
            "text/plain": [
              "     imdb_id                                          title  \\\n",
              "0  tt0057603                        I tre volti della paura   \n",
              "1  tt1733125  Dungeons & Dragons: The Book of Vile Darkness   \n",
              "2  tt0033045                     The Shop Around the Corner   \n",
              "3  tt0113862                             Mr. Holland's Opus   \n",
              "4  tt0086250                                       Scarface   \n",
              "\n",
              "                                       plot_synopsis  \\\n",
              "0  Note: this synopsis is for the orginal Italian...   \n",
              "1  Two thousand years ago, Nhagruul the Foul, a s...   \n",
              "2  Matuschek's, a gift store in Budapest, is the ...   \n",
              "3  Glenn Holland, not a morning person by anyone'...   \n",
              "4  In May 1980, a Cuban man named Tony Montana (A...   \n",
              "\n",
              "                                                tags  split synopsis_source  \n",
              "0          cult, horror, gothic, murder, atmospheric  train            imdb  \n",
              "1                                           violence  train            imdb  \n",
              "2                                           romantic   test            imdb  \n",
              "3             inspiring, romantic, stupid, feel-good  train            imdb  \n",
              "4  cruelty, murder, dramatic, cult, violence, atm...    val            imdb  "
            ],
            "text/html": [
              "\n",
              "  <div id=\"df-5378e117-cbdb-4b56-aa8c-768d9d7a76c1\">\n",
              "    <div class=\"colab-df-container\">\n",
              "      <div>\n",
              "<style scoped>\n",
              "    .dataframe tbody tr th:only-of-type {\n",
              "        vertical-align: middle;\n",
              "    }\n",
              "\n",
              "    .dataframe tbody tr th {\n",
              "        vertical-align: top;\n",
              "    }\n",
              "\n",
              "    .dataframe thead th {\n",
              "        text-align: right;\n",
              "    }\n",
              "</style>\n",
              "<table border=\"1\" class=\"dataframe\">\n",
              "  <thead>\n",
              "    <tr style=\"text-align: right;\">\n",
              "      <th></th>\n",
              "      <th>imdb_id</th>\n",
              "      <th>title</th>\n",
              "      <th>plot_synopsis</th>\n",
              "      <th>tags</th>\n",
              "      <th>split</th>\n",
              "      <th>synopsis_source</th>\n",
              "    </tr>\n",
              "  </thead>\n",
              "  <tbody>\n",
              "    <tr>\n",
              "      <th>0</th>\n",
              "      <td>tt0057603</td>\n",
              "      <td>I tre volti della paura</td>\n",
              "      <td>Note: this synopsis is for the orginal Italian...</td>\n",
              "      <td>cult, horror, gothic, murder, atmospheric</td>\n",
              "      <td>train</td>\n",
              "      <td>imdb</td>\n",
              "    </tr>\n",
              "    <tr>\n",
              "      <th>1</th>\n",
              "      <td>tt1733125</td>\n",
              "      <td>Dungeons &amp; Dragons: The Book of Vile Darkness</td>\n",
              "      <td>Two thousand years ago, Nhagruul the Foul, a s...</td>\n",
              "      <td>violence</td>\n",
              "      <td>train</td>\n",
              "      <td>imdb</td>\n",
              "    </tr>\n",
              "    <tr>\n",
              "      <th>2</th>\n",
              "      <td>tt0033045</td>\n",
              "      <td>The Shop Around the Corner</td>\n",
              "      <td>Matuschek's, a gift store in Budapest, is the ...</td>\n",
              "      <td>romantic</td>\n",
              "      <td>test</td>\n",
              "      <td>imdb</td>\n",
              "    </tr>\n",
              "    <tr>\n",
              "      <th>3</th>\n",
              "      <td>tt0113862</td>\n",
              "      <td>Mr. Holland's Opus</td>\n",
              "      <td>Glenn Holland, not a morning person by anyone'...</td>\n",
              "      <td>inspiring, romantic, stupid, feel-good</td>\n",
              "      <td>train</td>\n",
              "      <td>imdb</td>\n",
              "    </tr>\n",
              "    <tr>\n",
              "      <th>4</th>\n",
              "      <td>tt0086250</td>\n",
              "      <td>Scarface</td>\n",
              "      <td>In May 1980, a Cuban man named Tony Montana (A...</td>\n",
              "      <td>cruelty, murder, dramatic, cult, violence, atm...</td>\n",
              "      <td>val</td>\n",
              "      <td>imdb</td>\n",
              "    </tr>\n",
              "  </tbody>\n",
              "</table>\n",
              "</div>\n",
              "      <button class=\"colab-df-convert\" onclick=\"convertToInteractive('df-5378e117-cbdb-4b56-aa8c-768d9d7a76c1')\"\n",
              "              title=\"Convert this dataframe to an interactive table.\"\n",
              "              style=\"display:none;\">\n",
              "        \n",
              "  <svg xmlns=\"http://www.w3.org/2000/svg\" height=\"24px\"viewBox=\"0 0 24 24\"\n",
              "       width=\"24px\">\n",
              "    <path d=\"M0 0h24v24H0V0z\" fill=\"none\"/>\n",
              "    <path d=\"M18.56 5.44l.94 2.06.94-2.06 2.06-.94-2.06-.94-.94-2.06-.94 2.06-2.06.94zm-11 1L8.5 8.5l.94-2.06 2.06-.94-2.06-.94L8.5 2.5l-.94 2.06-2.06.94zm10 10l.94 2.06.94-2.06 2.06-.94-2.06-.94-.94-2.06-.94 2.06-2.06.94z\"/><path d=\"M17.41 7.96l-1.37-1.37c-.4-.4-.92-.59-1.43-.59-.52 0-1.04.2-1.43.59L10.3 9.45l-7.72 7.72c-.78.78-.78 2.05 0 2.83L4 21.41c.39.39.9.59 1.41.59.51 0 1.02-.2 1.41-.59l7.78-7.78 2.81-2.81c.8-.78.8-2.07 0-2.86zM5.41 20L4 18.59l7.72-7.72 1.47 1.35L5.41 20z\"/>\n",
              "  </svg>\n",
              "      </button>\n",
              "      \n",
              "  <style>\n",
              "    .colab-df-container {\n",
              "      display:flex;\n",
              "      flex-wrap:wrap;\n",
              "      gap: 12px;\n",
              "    }\n",
              "\n",
              "    .colab-df-convert {\n",
              "      background-color: #E8F0FE;\n",
              "      border: none;\n",
              "      border-radius: 50%;\n",
              "      cursor: pointer;\n",
              "      display: none;\n",
              "      fill: #1967D2;\n",
              "      height: 32px;\n",
              "      padding: 0 0 0 0;\n",
              "      width: 32px;\n",
              "    }\n",
              "\n",
              "    .colab-df-convert:hover {\n",
              "      background-color: #E2EBFA;\n",
              "      box-shadow: 0px 1px 2px rgba(60, 64, 67, 0.3), 0px 1px 3px 1px rgba(60, 64, 67, 0.15);\n",
              "      fill: #174EA6;\n",
              "    }\n",
              "\n",
              "    [theme=dark] .colab-df-convert {\n",
              "      background-color: #3B4455;\n",
              "      fill: #D2E3FC;\n",
              "    }\n",
              "\n",
              "    [theme=dark] .colab-df-convert:hover {\n",
              "      background-color: #434B5C;\n",
              "      box-shadow: 0px 1px 3px 1px rgba(0, 0, 0, 0.15);\n",
              "      filter: drop-shadow(0px 1px 2px rgba(0, 0, 0, 0.3));\n",
              "      fill: #FFFFFF;\n",
              "    }\n",
              "  </style>\n",
              "\n",
              "      <script>\n",
              "        const buttonEl =\n",
              "          document.querySelector('#df-5378e117-cbdb-4b56-aa8c-768d9d7a76c1 button.colab-df-convert');\n",
              "        buttonEl.style.display =\n",
              "          google.colab.kernel.accessAllowed ? 'block' : 'none';\n",
              "\n",
              "        async function convertToInteractive(key) {\n",
              "          const element = document.querySelector('#df-5378e117-cbdb-4b56-aa8c-768d9d7a76c1');\n",
              "          const dataTable =\n",
              "            await google.colab.kernel.invokeFunction('convertToInteractive',\n",
              "                                                     [key], {});\n",
              "          if (!dataTable) return;\n",
              "\n",
              "          const docLinkHtml = 'Like what you see? Visit the ' +\n",
              "            '<a target=\"_blank\" href=https://colab.research.google.com/notebooks/data_table.ipynb>data table notebook</a>'\n",
              "            + ' to learn more about interactive tables.';\n",
              "          element.innerHTML = '';\n",
              "          dataTable['output_type'] = 'display_data';\n",
              "          await google.colab.output.renderOutput(dataTable, element);\n",
              "          const docLink = document.createElement('div');\n",
              "          docLink.innerHTML = docLinkHtml;\n",
              "          element.appendChild(docLink);\n",
              "        }\n",
              "      </script>\n",
              "    </div>\n",
              "  </div>\n",
              "  "
            ]
          },
          "metadata": {},
          "execution_count": 5
        }
      ]
    },
    {
      "cell_type": "markdown",
      "source": [
        "## Cleaning data"
      ],
      "metadata": {
        "id": "MM5JxCcYMjJU"
      }
    },
    {
      "cell_type": "code",
      "source": [
        "def strip_html_tags(text):\n",
        "    \"\"\" \n",
        "    This function will remove all the occurrences of html tags from the text.\n",
        "    \n",
        "    arguments:\n",
        "        input_text: \"text\" of type \"String\". \n",
        "                    \n",
        "    return:\n",
        "        value: \"text\" after removal of html tags.\n",
        "        \n",
        "    Example:\n",
        "    Input : This is a nice place to live. <IMG>\n",
        "    Output : This is a nice place to live.  \n",
        "    \"\"\"\n",
        "    # Initiating BeautifulSoup object soup.\n",
        "    soup = BeautifulSoup(text, \"html.parser\")\n",
        "    # Get all the text other than html tags.\n",
        "    stripped_text = soup.get_text(separator=\" \")\n",
        "    return stripped_text"
      ],
      "metadata": {
        "id": "0QuLWaMvW4c5"
      },
      "execution_count": 6,
      "outputs": []
    },
    {
      "cell_type": "code",
      "source": [
        "def remove_links(text):\n",
        "    \"\"\"\n",
        "    This function will remove all the occurrences of links.\n",
        "    \n",
        "    arguments:\n",
        "        input_text: \"text\" of type \"String\". \n",
        "                    \n",
        "    return:\n",
        "        value: \"text\" after removal of all types of links.\n",
        "        \n",
        "    Example:\n",
        "    Input : To know more about cats and food & website: catster.com  visit: https://catster.com//how-to-feed-cats\n",
        "    Output : To know more about cats and food & website: visit:     \n",
        "    \n",
        "    \"\"\"\n",
        "    \n",
        "    # Removing all the occurrences of links that starts with https\n",
        "    remove_https = re.sub(r'http\\S+', '', text)\n",
        "    # Remove all the occurrences of text that ends with .com\n",
        "    remove_com = re.sub(r\"\\ [A-Za-z]*\\.com\", \" \", remove_https)\n",
        "    return remove_com"
      ],
      "metadata": {
        "id": "nxm8QFN8Xtvc"
      },
      "execution_count": 7,
      "outputs": []
    },
    {
      "cell_type": "code",
      "source": [
        "def spelling_correction(text):\n",
        "    ''' \n",
        "    This function will correct spellings.\n",
        "    \n",
        "    arguments:\n",
        "         input_text: \"text\" of type \"String\".\n",
        "         \n",
        "    return:\n",
        "        value: Text after corrected spellings.\n",
        "        \n",
        "    Example: \n",
        "    Input : This is Oberois from Dlhi who came heree to studdy.\n",
        "    Output : This is Oberoi from Delhi who came here to study.\n",
        "    '''\n",
        "    # Check for spellings in English language\n",
        "    spell = Speller(lang='en')\n",
        "    Corrected_text = spell(text)\n",
        "    return Corrected_text"
      ],
      "metadata": {
        "id": "rGfBvLfnYoTR"
      },
      "execution_count": 8,
      "outputs": []
    },
    {
      "cell_type": "code",
      "source": [
        "stoplist = nltk.corpus.stopwords.words('english') \n",
        "stoplist = set(stoplist)\n",
        "def removing_stopwords(text):\n",
        "    \"\"\"This function will remove stopwords which doesn't add much meaning to a sentence \n",
        "       & they can be remove safely without comprimising meaning of the sentence.\n",
        "    \n",
        "    arguments:\n",
        "         input_text: \"text\" of type \"String\".\n",
        "         \n",
        "    return:\n",
        "        value: Text after omitted all stopwords.\n",
        "        \n",
        "    Example: \n",
        "    Input : This is Kajal from delhi who came here to study.\n",
        "    Output : [\"'This\", 'Kajal', 'delhi', 'came', 'study', '.', \"'\"] \n",
        "    \n",
        "   \"\"\"\n",
        "    # repr() function actually gives the precise information about the string\n",
        "    text = repr(text)\n",
        "    # Text without stopwords\n",
        "    No_StopWords = [word for word in nltk.tokenize.word_tokenize(text) if word.lower() not in stoplist ]\n",
        "    # Convert list of tokens_without_stopwords to String type.\n",
        "    words_string = ' '.join(No_StopWords)    \n",
        "    return words_string"
      ],
      "metadata": {
        "id": "FfX_svf0b1Ga"
      },
      "execution_count": 9,
      "outputs": []
    },
    {
      "cell_type": "code",
      "source": [
        "def tokenizing(text): \n",
        "  tokenizer = nltk.tokenize.RegexpTokenizer(r'\\w+')\n",
        "  return ' '.join(tokenizer.tokenize(text.lower()))"
      ],
      "metadata": {
        "id": "tya0c24yePm0"
      },
      "execution_count": 10,
      "outputs": []
    },
    {
      "cell_type": "code",
      "source": [
        "def clean_text(text): \n",
        "  text = strip_html_tags(text)\n",
        "  text = remove_links(text)\n",
        "  # text = spelling_correction(text) # for faster execution remove this one\n",
        "  text = contractions.fix(text)\n",
        "  text = tokenizing(text)\n",
        "  text = removing_stopwords(text)\n",
        "  text = re.sub(\"\\S*\\d\\S*\", \"\", text).strip()\n",
        "  return text\n",
        "\n",
        "#Takes around a minute or so\n",
        "df['preprocessed_plots'] = df['plot_synopsis'].apply(clean_text)"
      ],
      "metadata": {
        "id": "v5EpNK-qVjtW"
      },
      "execution_count": 11,
      "outputs": []
    },
    {
      "cell_type": "code",
      "source": [
        "df['preprocessed_plots']"
      ],
      "metadata": {
        "colab": {
          "base_uri": "https://localhost:8080/"
        },
        "id": "KVs_6dPzN6nE",
        "outputId": "c68e45fa-1b76-4220-c18d-1f442bdd5738"
      },
      "execution_count": 12,
      "outputs": [
        {
          "output_type": "execute_result",
          "data": {
            "text/plain": [
              "0        'note synopsis orginal italian release segment...\n",
              "1        'two thousand years ago nhagruul foul sorcerer...\n",
              "2        'matuschek gift store budapest workplace alfre...\n",
              "3        'glenn holland morning person anyone standards...\n",
              "4        'in may  cuban man named tony montana al pacin...\n",
              "                               ...                        \n",
              "14823    'in  russ richards john travolta weatherman ha...\n",
              "14824    'in russia media covers tony stark disclosure ...\n",
              "14825    'during north african campaign world war ii ca...\n",
              "14826    'steven kenet catches unfaithful wife apartmen...\n",
              "14827    'sometime  chicago man cecil moe michael madse...\n",
              "Name: preprocessed_plots, Length: 14828, dtype: object"
            ]
          },
          "metadata": {},
          "execution_count": 12
        }
      ]
    },
    {
      "cell_type": "code",
      "source": [
        "def remove_sapces(text): \n",
        "  return text.replace(\" \",\"\")\n",
        "\n",
        "df['tags']=df['tags'].apply(remove_sapces)\n",
        "df['tags']"
      ],
      "metadata": {
        "colab": {
          "base_uri": "https://localhost:8080/"
        },
        "id": "jY3yoTSIIz2t",
        "outputId": "df332b60-ef72-4270-f509-e68ac69f4690"
      },
      "execution_count": 13,
      "outputs": [
        {
          "output_type": "execute_result",
          "data": {
            "text/plain": [
              "0                    cult,horror,gothic,murder,atmospheric\n",
              "1                                                 violence\n",
              "2                                                 romantic\n",
              "3                      inspiring,romantic,stupid,feel-good\n",
              "4        cruelty,murder,dramatic,cult,violence,atmosphe...\n",
              "                               ...                        \n",
              "14823                                        comedy,murder\n",
              "14824                              goodversusevil,violence\n",
              "14825                                              antiwar\n",
              "14826                                               murder\n",
              "14827                                        christianfilm\n",
              "Name: tags, Length: 14828, dtype: object"
            ]
          },
          "metadata": {},
          "execution_count": 13
        }
      ]
    },
    {
      "cell_type": "markdown",
      "source": [
        "### How well did we clean the data? "
      ],
      "metadata": {
        "id": "rcfIDxu-caG-"
      }
    },
    {
      "cell_type": "code",
      "source": [
        "def max_len(x):\n",
        "    a=x.split()\n",
        "    return len(a)\n",
        "\n",
        "v=Tokenizer()\n",
        "v.fit_on_texts(df['preprocessed_plots'])\n",
        "vocab_size = len(v.word_index) + 1\n",
        "\n",
        "\n",
        "print(max(df['preprocessed_plots'].apply(max_len)))\n",
        "print(vocab_size)"
      ],
      "metadata": {
        "colab": {
          "base_uri": "https://localhost:8080/"
        },
        "id": "-TcSWXLpb323",
        "outputId": "a2ec6ecd-9176-443b-facd-1f1fbf0659bb"
      },
      "execution_count": 14,
      "outputs": [
        {
          "output_type": "stream",
          "name": "stdout",
          "text": [
            "5833\n",
            "125854\n"
          ]
        }
      ]
    },
    {
      "cell_type": "markdown",
      "source": [
        "## Encoding before training"
      ],
      "metadata": {
        "id": "IyHIfE-oQPC8"
      }
    },
    {
      "cell_type": "code",
      "source": [
        "train=df.loc[df.split=='train']\n",
        "test=df.loc[df.split=='test']\n",
        "cv=df.loc[df.split==\"val\"]\n",
        "\n",
        "train=train.reset_index()\n",
        "test=test.reset_index()\n",
        "cv=cv.reset_index()\n"
      ],
      "metadata": {
        "id": "roLpUYZbI63i"
      },
      "execution_count": 15,
      "outputs": []
    },
    {
      "cell_type": "code",
      "source": [
        "vectorizer = CountVectorizer(tokenizer = lambda x: x.split(\",\"), binary='true')\n",
        "y_train = vectorizer.fit_transform(train['tags']).toarray()\n",
        "y_test = vectorizer.transform(test['tags']).toarray()\n",
        "\n",
        "print(y_train)\n",
        "print(vectorizer.inverse_transform(y_train)[0])"
      ],
      "metadata": {
        "colab": {
          "base_uri": "https://localhost:8080/"
        },
        "id": "LMvzGIrFJJ1t",
        "outputId": "c4446603-4693-46ed-f72b-a4b9ea3b320e"
      },
      "execution_count": 16,
      "outputs": [
        {
          "output_type": "stream",
          "name": "stdout",
          "text": [
            "[[0 0 0 ... 0 0 0]\n",
            " [0 0 0 ... 1 0 0]\n",
            " [0 0 0 ... 0 0 0]\n",
            " ...\n",
            " [0 0 0 ... 1 0 0]\n",
            " [0 0 0 ... 1 0 0]\n",
            " [0 0 0 ... 0 0 0]]\n",
            "['atmospheric' 'cult' 'gothic' 'horror' 'murder']\n"
          ]
        }
      ]
    },
    {
      "cell_type": "code",
      "source": [
        "vect=Tokenizer()\n",
        "vect.fit_on_texts(train['plot_synopsis'])\n",
        "vocab_size = len(vect.word_index) + 1\n",
        "print(vocab_size)"
      ],
      "metadata": {
        "colab": {
          "base_uri": "https://localhost:8080/"
        },
        "id": "lfhGLg1rJo0X",
        "outputId": "9cfe59e9-3d81-41ff-a430-cc61d8a4e491"
      },
      "execution_count": 17,
      "outputs": [
        {
          "output_type": "stream",
          "name": "stdout",
          "text": [
            "122195\n"
          ]
        }
      ]
    },
    {
      "cell_type": "code",
      "source": [
        "encoded_docs_train = vect.texts_to_sequences(train['preprocessed_plots'])\n",
        "max_length = vocab_size\n",
        "padded_docs_train = pad_sequences(encoded_docs_train, maxlen=1200, padding='post')\n",
        "print(padded_docs_train)"
      ],
      "metadata": {
        "colab": {
          "base_uri": "https://localhost:8080/"
        },
        "id": "vzY98i6fJsMw",
        "outputId": "f3bc20bc-ca52-47a1-d88a-56a36a8c348c"
      },
      "execution_count": 18,
      "outputs": [
        {
          "output_type": "stream",
          "name": "stdout",
          "text": [
            "[[ 4660 62208  2514 ...     0     0     0]\n",
            " [ 4481   143   875 ...     0     0     0]\n",
            " [ 4094  2892 28344 ...   140  6946  2001]\n",
            " ...\n",
            " [62209  2717   539 ...     0     0     0]\n",
            " [25350  5118  2731 ...     0     0     0]\n",
            " [ 1269  2392  2530 ...     0     0     0]]\n"
          ]
        }
      ]
    },
    {
      "cell_type": "code",
      "source": [
        "encoded_docs_test =  vect.texts_to_sequences(test['preprocessed_plots'])\n",
        "padded_docs_test = pad_sequences(encoded_docs_test, maxlen=1200, padding='post')\n",
        "encoded_docs_cv = vect.texts_to_sequences(cv['preprocessed_plots'])\n",
        "padded_docs_cv = pad_sequences(encoded_docs_cv, maxlen=1200, padding='post')"
      ],
      "metadata": {
        "id": "4YrqkVEDJt0T"
      },
      "execution_count": 19,
      "outputs": []
    },
    {
      "cell_type": "markdown",
      "source": [
        "## Model "
      ],
      "metadata": {
        "id": "Da3bv_QOVWXZ"
      }
    },
    {
      "cell_type": "code",
      "source": [
        "model = keras.Sequential()\n",
        "# Configuring the parameters\n",
        "model.add(layers.Embedding(vocab_size, output_dim=50, input_length=1200))\n",
        "model.add(layers.LSTM(128, return_sequences=True))  \n",
        "# Adding a dropout layer\n",
        "model.add(layers.Dropout(0.5))\n",
        "model.add(layers.LSTM(64))\n",
        "model.add(layers.Dropout(0.5))\n",
        "# Adding a dense output layer with sigmoid activation\n",
        "model.add(layers.Dense(71, activation='sigmoid'))\n",
        "\n",
        "\n",
        "model.summary()"
      ],
      "metadata": {
        "colab": {
          "base_uri": "https://localhost:8080/"
        },
        "id": "EjPSCZw9JxRu",
        "outputId": "7a90f36a-be7e-44d7-c420-5dfe016d3bd0"
      },
      "execution_count": 20,
      "outputs": [
        {
          "output_type": "stream",
          "name": "stdout",
          "text": [
            "Model: \"sequential\"\n",
            "_________________________________________________________________\n",
            " Layer (type)                Output Shape              Param #   \n",
            "=================================================================\n",
            " embedding (Embedding)       (None, 1200, 50)          6109750   \n",
            "                                                                 \n",
            " lstm (LSTM)                 (None, 1200, 128)         91648     \n",
            "                                                                 \n",
            " dropout (Dropout)           (None, 1200, 128)         0         \n",
            "                                                                 \n",
            " lstm_1 (LSTM)               (None, 64)                49408     \n",
            "                                                                 \n",
            " dropout_1 (Dropout)         (None, 64)                0         \n",
            "                                                                 \n",
            " dense (Dense)               (None, 71)                4615      \n",
            "                                                                 \n",
            "=================================================================\n",
            "Total params: 6,255,421\n",
            "Trainable params: 6,255,421\n",
            "Non-trainable params: 0\n",
            "_________________________________________________________________\n"
          ]
        }
      ]
    },
    {
      "cell_type": "code",
      "source": [
        "METRICS = [\n",
        "      keras.metrics.TruePositives(name='tp'),\n",
        "      keras.metrics.FalsePositives(name='fp'),\n",
        "      keras.metrics.TrueNegatives(name='tn'),\n",
        "      keras.metrics.FalseNegatives(name='fn'), \n",
        "      keras.metrics.BinaryAccuracy(name='accuracy'),\n",
        "      keras.metrics.Precision(name='precision'),\n",
        "      keras.metrics.Recall(name='recall'),\n",
        "      keras.metrics.AUC(name='auc'),\n",
        "]\n",
        "\n",
        "callbacks = [\n",
        "    EarlyStopping(monitor='val_loss', patience=4, verbose=0),\n",
        "]\n",
        "\n",
        "model.compile(optimizer='adam', loss='binary_crossentropy', metrics = METRICS)"
      ],
      "metadata": {
        "id": "UqVvwF0gJxaK"
      },
      "execution_count": 21,
      "outputs": []
    },
    {
      "cell_type": "code",
      "source": [
        "history = model.fit(padded_docs_train,y_train,\n",
        "                        epochs = 10,\n",
        "                        verbose = 1,\n",
        "                        validation_data=(padded_docs_test, y_test),\n",
        "                        batch_size=16,\n",
        "                        callbacks=callbacks)"
      ],
      "metadata": {
        "colab": {
          "base_uri": "https://localhost:8080/"
        },
        "id": "A-q10RhoJ64-",
        "outputId": "936f1423-9b8f-4d5f-ab00-af4fec4ae959"
      },
      "execution_count": null,
      "outputs": [
        {
          "output_type": "stream",
          "name": "stdout",
          "text": [
            "Epoch 1/10\n",
            "594/594 [==============================] - 75s 108ms/step - loss: 0.1721 - tp: 1387.0000 - fp: 8239.0000 - tn: 637458.0000 - fn: 26635.0000 - accuracy: 0.9482 - precision: 0.1441 - recall: 0.0495 - auc: 0.7513 - val_loss: 0.1419 - val_tp: 2.0000 - val_fp: 69.0000 - val_tn: 201495.0000 - val_fn: 9020.0000 - val_accuracy: 0.9568 - val_precision: 0.0282 - val_recall: 2.2168e-04 - val_auc: 0.8299\n",
            "Epoch 2/10\n",
            " 62/594 [==>...........................] - ETA: 46s - loss: 0.1553 - tp: 83.0000 - fp: 744.0000 - tn: 66854.0000 - fn: 2751.0000 - accuracy: 0.9504 - precision: 0.1004 - recall: 0.0293 - auc: 0.7905"
          ]
        }
      ]
    },
    {
      "cell_type": "code",
      "source": [
        "import matplotlib.pyplot as plt\n",
        "import matplotlib as mpl\n",
        "\n",
        "mpl.rcParams['figure.figsize'] = (12, 10)\n",
        "colors = plt.rcParams['axes.prop_cycle'].by_key()['color']\n",
        "\n",
        "def plot_metrics(history):\n",
        "    metrics =  ['loss', 'auc', 'precision', 'recall']\n",
        "    for n, metric in enumerate(metrics):\n",
        "        name = metric.replace(\"_\",\" \").capitalize()\n",
        "        plt.subplot(2,2,n+1)\n",
        "        plt.plot(history.epoch,  history.history[metric], color=colors[0], label='Train')\n",
        "        plt.plot(history.epoch, history.history['val_'+metric],\n",
        "                 color=colors[0], linestyle=\"--\", label='Val')\n",
        "        plt.xlabel('Epoch')\n",
        "        plt.ylabel(name)\n",
        "        if metric == 'loss':\n",
        "            plt.ylim([0, plt.ylim()[1]])\n",
        "        elif metric == 'auc':\n",
        "            plt.ylim([0.8,1])\n",
        "        else:\n",
        "            plt.ylim([0,1])\n",
        "\n",
        "        plt.legend()\n",
        "\n",
        "plot_metrics(history)"
      ],
      "metadata": {
        "id": "yHBOodQGKGXQ"
      },
      "execution_count": null,
      "outputs": []
    },
    {
      "cell_type": "code",
      "source": [
        "from sklearn.metrics import precision_score, recall_score, f1_score"
      ],
      "metadata": {
        "id": "s6iOtmgGKJXs"
      },
      "execution_count": null,
      "outputs": []
    },
    {
      "cell_type": "code",
      "source": [
        "predictions=model.predict([padded_docs_test])\n",
        "thresholds=[0.1,0.2,0.3,0.4,0.5,0.6,0.7,0.8,0.9]\n",
        "\n",
        "for val in thresholds:\n",
        "    print(\"For threshold: \", val)\n",
        "    pred=predictions.copy()\n",
        "  \n",
        "    pred[pred>=val]=1\n",
        "    pred[pred<val]=0\n",
        "  \n",
        "    precision = precision_score(y_test, pred, average='micro')\n",
        "    recall = recall_score(y_test, pred, average='micro')\n",
        "    f1 = f1_score(y_test, pred, average='micro')\n",
        "   \n",
        "    print(\"Micro-average quality numbers\")\n",
        "    print(\"Precision: {:.4f}, Recall: {:.4f}, F1-measure: {:.4f}\".format(precision, recall, f1))"
      ],
      "metadata": {
        "id": "9wl3aGeeKMfw"
      },
      "execution_count": null,
      "outputs": []
    },
    {
      "cell_type": "code",
      "source": [
        "def predict_sample():\n",
        "    t = train.sample(1)\n",
        "    encoded_docs = vect.texts_to_sequences(t['preprocessed_plots'])\n",
        "    padded_docs = pad_sequences(encoded_docs, maxlen=1200, padding='post')\n",
        "    pred = model.predict(padded_docs).tolist()\n",
        "    for i in range(len(pred[0])):\n",
        "        if(pred[0][i] < 0.1):\n",
        "            pred[0][i] = 0\n",
        "        else:\n",
        "            pred[0][i] = 1\n",
        "    \n",
        "    print(\"Original tags -->\", t['tags'].values)\n",
        "    print(\"Predicted tags -->\", vectorizer.inverse_transform(pred))\n",
        "\n",
        "predict_sample()"
      ],
      "metadata": {
        "id": "9EukLx7jKOGN"
      },
      "execution_count": null,
      "outputs": []
    }
  ]
}